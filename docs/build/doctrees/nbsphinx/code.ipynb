{
 "cells": [
  {
   "cell_type": "markdown",
   "id": "3b132fe4",
   "metadata": {},
   "source": [
    "Wind Sensor Code"
   ]
  },
  {
   "cell_type": "markdown",
   "id": "266f04ba",
   "metadata": {},
   "source": []
  },
  {
   "cell_type": "markdown",
   "id": "8764bf38",
   "metadata": {},
   "source": [
    "# Wind Sensor Code"
   ]
  },
  {
   "cell_type": "markdown",
   "id": "f20c30a3",
   "metadata": {},
   "source": [
    "The sensors are controlled by Arduino sketches. Three modules from Arduino were used. "
   ]
  },
  {
   "cell_type": "code",
   "execution_count": 1,
   "id": "817662f0",
   "metadata": {
    "execution": {
     "iopub.execute_input": "2022-07-25T19:06:53.781922Z",
     "iopub.status.busy": "2022-07-25T19:06:53.781633Z",
     "iopub.status.idle": "2022-07-25T19:06:53.786660Z",
     "shell.execute_reply": "2022-07-25T19:06:53.785832Z"
    }
   },
   "outputs": [],
   "source": [
    "#include \"TimerOne.h\"\n",
    "#include <math.h>\n",
    "#include <SD.h>\n",
    "#include <SPI.h>"
   ]
  },
  {
   "cell_type": "markdown",
   "id": "245ac354",
   "metadata": {},
   "source": [
    "Two pins are used to read the wind speed and wind direction from the davis senor. Wind speed is connected to a digital pin and wind direction is connected to a analog pin. If testing indicated the wind vane having an offset from the intented rest position, it can also be defined as a variable here. "
   ]
  },
  {
   "cell_type": "code",
   "execution_count": 2,
   "id": "7fb2a1df",
   "metadata": {
    "execution": {
     "iopub.execute_input": "2022-07-25T19:06:53.789790Z",
     "iopub.status.busy": "2022-07-25T19:06:53.789515Z",
     "iopub.status.idle": "2022-07-25T19:06:53.792754Z",
     "shell.execute_reply": "2022-07-25T19:06:53.792001Z"
    }
   },
   "outputs": [],
   "source": [
    "#define WindSensor_Pin (2) // digital pin for wind speed sensor\n",
    "#define WindVane_Pin (A4) // analog pin for wind direction sensor\n",
    "#define VaneOffset 0 // define the offset for caclulating wind direction\n"
   ]
  },
  {
   "cell_type": "markdown",
   "id": "d746435c",
   "metadata": {},
   "source": [
    "Set variables for the sketch. "
   ]
  },
  {
   "cell_type": "code",
   "execution_count": 3,
   "id": "9b1b82f9",
   "metadata": {
    "execution": {
     "iopub.execute_input": "2022-07-25T19:06:53.795783Z",
     "iopub.status.busy": "2022-07-25T19:06:53.795472Z",
     "iopub.status.idle": "2022-07-25T19:06:53.805796Z",
     "shell.execute_reply": "2022-07-25T19:06:53.805029Z"
    }
   },
   "outputs": [
    {
     "ename": "SyntaxError",
     "evalue": "invalid syntax (2342000907.py, line 1)",
     "output_type": "error",
     "traceback": [
      "\u001b[0;36m  Input \u001b[0;32mIn [3]\u001b[0;36m\u001b[0m\n\u001b[0;31m    volatile bool isSampleRequired; // this is set every 2.5sec to generate wind speed\u001b[0m\n\u001b[0m             ^\u001b[0m\n\u001b[0;31mSyntaxError\u001b[0m\u001b[0;31m:\u001b[0m invalid syntax\n"
     ]
    }
   ],
   "source": [
    "volatile bool isSampleRequired; // this is set every 2.5sec to generate wind speed\n",
    "volatile unsigned int timerCount; // used to count ticks for 2.5sec timer count\n",
    "volatile unsigned long rotations; // cup rotation counter for wind speed calcs\n",
    "volatile unsigned long contactBounceTime; // timer to avoid contact bounce in wind speed sensor\n",
    "volatile float windSpeed;\n",
    "\n",
    "int vaneValue; // raw analog value from wind vane\n",
    "int vaneDirection; // translated 0 - 360 wind direction\n",
    "int calDirection; // calibrated direction after offset applied\n",
    "int lastDirValue; // last recorded direction value\n",
    "\n",
    "const int chipSelect = 10; // pin with sd card connected"
   ]
  },
  {
   "cell_type": "markdown",
   "id": "89702a03",
   "metadata": {},
   "source": [
    "Setup file for data to be written to. "
   ]
  },
  {
   "cell_type": "code",
   "execution_count": 4,
   "id": "0d9099b7",
   "metadata": {
    "execution": {
     "iopub.execute_input": "2022-07-25T19:06:53.808868Z",
     "iopub.status.busy": "2022-07-25T19:06:53.808645Z",
     "iopub.status.idle": "2022-07-25T19:06:53.813247Z",
     "shell.execute_reply": "2022-07-25T19:06:53.812454Z"
    }
   },
   "outputs": [
    {
     "ename": "SyntaxError",
     "evalue": "invalid syntax (2363691600.py, line 1)",
     "output_type": "error",
     "traceback": [
      "\u001b[0;36m  Input \u001b[0;32mIn [4]\u001b[0;36m\u001b[0m\n\u001b[0;31m    static char fileName[] = \"windtest.txt\";\u001b[0m\n\u001b[0m           ^\u001b[0m\n\u001b[0;31mSyntaxError\u001b[0m\u001b[0;31m:\u001b[0m invalid syntax\n"
     ]
    }
   ],
   "source": [
    "static char fileName[] = \"windtest.txt\";\n",
    "static char header[] = {\"time\\twsp\\twdir\"};"
   ]
  },
  {
   "cell_type": "markdown",
   "id": "c15cf322",
   "metadata": {},
   "source": [
    "Setup loop to reset senors and ensure everything is connected properly. "
   ]
  },
  {
   "cell_type": "code",
   "execution_count": 5,
   "id": "79264007",
   "metadata": {
    "execution": {
     "iopub.execute_input": "2022-07-25T19:06:53.816168Z",
     "iopub.status.busy": "2022-07-25T19:06:53.815936Z",
     "iopub.status.idle": "2022-07-25T19:06:53.824716Z",
     "shell.execute_reply": "2022-07-25T19:06:53.823905Z"
    }
   },
   "outputs": [
    {
     "ename": "SyntaxError",
     "evalue": "invalid syntax (1066586634.py, line 1)",
     "output_type": "error",
     "traceback": [
      "\u001b[0;36m  Input \u001b[0;32mIn [5]\u001b[0;36m\u001b[0m\n\u001b[0;31m    void setup() {\u001b[0m\n\u001b[0m         ^\u001b[0m\n\u001b[0;31mSyntaxError\u001b[0m\u001b[0;31m:\u001b[0m invalid syntax\n"
     ]
    }
   ],
   "source": [
    "void setup() {\n",
    "  // This prevents any pins floating.\n",
    "  //for (byte i = 2 ; i <= 19 ; i++)\n",
    "  //  pinMode (i, INPUT_PULLUP);\n",
    "    \n",
    "  // setup anemometer values\n",
    "  lastDirValue = 0;\n",
    "  rotations = 0;\n",
    "  isSampleRequired = false;\n",
    "\n",
    "  // setup timer values\n",
    "  timerCount = 0;\n",
    "\n",
    "  Serial.begin(9600);\n",
    "  Serial.println(\" \");\n",
    "  Serial.println(\"UBC Wind Sensor\");\n",
    "\n",
    "  Serial.begin(9600);\n",
    "  if (SD.begin(chipSelect)) {\n",
    "    Serial.println(\"SD card is present & ready\");\n",
    "  } else {\n",
    "    Serial.println(\"SD card missing or failure\");\n",
    "    while (1); //wait here forever\n",
    "  }\n",
    "\n",
    "  File myFile = SD.open(fileName, FILE_WRITE);\n",
    "  if (myFile) {\n",
    "    myFile.println((char*)header);\n",
    "    myFile.close();\n",
    "    Serial.println((char*)header);\n",
    "  }\n",
    "  else {\n",
    "    Serial.println(\"error opening .txt\");\n",
    "  }\n",
    "\n",
    "  pinMode(WindSensor_Pin, INPUT_PULLUP);\n",
    "  attachInterrupt(digitalPinToInterrupt(WindSensor_Pin), isr_rotation, FALLING);\n",
    "\n",
    "  //pinMode(WindSensor_Pin, INPUT_PULLUP);\n",
    "  //attachInterrupt(digitalPinToInterrupt(WindSensor_Pin), isr_rotation, RISING);\n",
    "\n",
    "  // setup the timer for 0.5 second\n",
    "  Timer1.initialize(500000);\n",
    "  Timer1.attachInterrupt(isr_timer);\n",
    "\n",
    " sei(); // Enable Interrupts\n",
    "\n",
    "}"
   ]
  },
  {
   "cell_type": "markdown",
   "id": "48537b42",
   "metadata": {},
   "source": [
    "Setup loop to write wind speed and direction to the ouput file. The sensor does not have an internal clock, but does keep track of millisecinds since power was introduced. However, due to memory it can only keep track of a certain number of milliseconds, so we need to convert them to hours/minutes/seconds."
   ]
  },
  {
   "cell_type": "code",
   "execution_count": 6,
   "id": "2d07e841",
   "metadata": {
    "execution": {
     "iopub.execute_input": "2022-07-25T19:06:53.827797Z",
     "iopub.status.busy": "2022-07-25T19:06:53.827491Z",
     "iopub.status.idle": "2022-07-25T19:06:53.836557Z",
     "shell.execute_reply": "2022-07-25T19:06:53.835805Z"
    }
   },
   "outputs": [
    {
     "ename": "SyntaxError",
     "evalue": "invalid syntax (65262104.py, line 1)",
     "output_type": "error",
     "traceback": [
      "\u001b[0;36m  Input \u001b[0;32mIn [6]\u001b[0;36m\u001b[0m\n\u001b[0;31m    void loop() {\u001b[0m\n\u001b[0m         ^\u001b[0m\n\u001b[0;31mSyntaxError\u001b[0m\u001b[0;31m:\u001b[0m invalid syntax\n"
     ]
    }
   ],
   "source": [
    "void loop() {\n",
    "\n",
    "//    getWindDirection();\n",
    "//    if (abs(calDirection - lastDirValue) > 5) {\n",
    "//      lastDirValue = calDirection;\n",
    "//    }\n",
    "  \n",
    "  if (isSampleRequired) {\n",
    "    getWindDirection();\n",
    "    unsigned long prMillis = millis();\n",
    "    while (millis() - prMillis < 1000) {\n",
    "      ;\n",
    "    }\n",
    "    prMillis = millis() / 1000;\n",
    "    byte sec = prMillis % 60;\n",
    "    prMillis = prMillis / 60;\n",
    "    byte min = prMillis % 60;\n",
    "    prMillis = prMillis / 60;\n",
    "    byte hrs = prMillis % 24;\n",
    "\n",
    "    Serial.print(hrs);\n",
    "    Serial.print(':');\n",
    "    Serial.print(min);\n",
    "    Serial.print(':');\n",
    "    Serial.print(sec);\n",
    "    Serial.print(\"\\t\");\n",
    "\n",
    "    Serial.print(windSpeed);\n",
    "    Serial.print(\" mph\\t\");\n",
    "    Serial.print(calDirection);\n",
    "  \n",
    "    Serial.println(\"*\");\n",
    "    File myFile = SD.open(fileName, FILE_WRITE);\n",
    "    if (myFile) // it opened OK\n",
    "    {\n",
    "      //Serial.println(\"Writing to windtest.txt\");\n",
    "      myFile.print(hrs);\n",
    "      myFile.print(':');\n",
    "      myFile.print(min);\n",
    "      myFile.print(':');\n",
    "      myFile.print(sec);\n",
    "      myFile.print(\"\\t\");\n",
    "      myFile.print(windSpeed);\n",
    "      myFile.print(\"\\t\");\n",
    "      myFile.println(calDirection);\n",
    "      myFile.close();\n",
    "    } else{\n",
    "      Serial.println(\"Error opening simple.txt\");\n",
    "    }\n",
    "    isSampleRequired = false;\n",
    "    //Serial.end(); // not sure if needed\n",
    "\n",
    "  }\n",
    "}"
   ]
  },
  {
   "cell_type": "markdown",
   "id": "97356cc4",
   "metadata": {},
   "source": [
    "Wind speed is collected as the number of rotations every 2.5s. The pin is then interrupted for 0.5s so the total can be reset. The total number of rotations is multiplied by 0.9 to get the wind speed as specified by the [Davis cup anemometer manual](https://cdn.shopify.com/s/files/1/0515/5992/3873/files/6410_SS.pdf). "
   ]
  },
  {
   "cell_type": "code",
   "execution_count": 7,
   "id": "35f04cab",
   "metadata": {
    "execution": {
     "iopub.execute_input": "2022-07-25T19:06:53.839470Z",
     "iopub.status.busy": "2022-07-25T19:06:53.839238Z",
     "iopub.status.idle": "2022-07-25T19:06:53.844188Z",
     "shell.execute_reply": "2022-07-25T19:06:53.843397Z"
    }
   },
   "outputs": [
    {
     "ename": "SyntaxError",
     "evalue": "invalid syntax (3581460217.py, line 1)",
     "output_type": "error",
     "traceback": [
      "\u001b[0;36m  Input \u001b[0;32mIn [7]\u001b[0;36m\u001b[0m\n\u001b[0;31m    void isr_timer() {\u001b[0m\n\u001b[0m         ^\u001b[0m\n\u001b[0;31mSyntaxError\u001b[0m\u001b[0;31m:\u001b[0m invalid syntax\n"
     ]
    }
   ],
   "source": [
    "void isr_timer() {\n",
    "  timerCount++;\n",
    "  if (timerCount == 6) {\n",
    "    windSpeed = rotations * 0.9;\n",
    "    rotations = 0;\n",
    "    isSampleRequired = true;\n",
    "    timerCount = 0;\n",
    "  }\n",
    "}"
   ]
  },
  {
   "cell_type": "markdown",
   "id": "659c264d",
   "metadata": {},
   "source": [
    "Function for getting wind direction. Wind direction is read as an offset from the orgin position (0 degrees) up to 1023 degrees. This needs to be re-mapped to follow the 360 degrees we use for direction. "
   ]
  },
  {
   "cell_type": "code",
   "execution_count": 8,
   "id": "036880bb",
   "metadata": {
    "execution": {
     "iopub.execute_input": "2022-07-25T19:06:53.847431Z",
     "iopub.status.busy": "2022-07-25T19:06:53.846850Z",
     "iopub.status.idle": "2022-07-25T19:06:53.852313Z",
     "shell.execute_reply": "2022-07-25T19:06:53.851521Z"
    }
   },
   "outputs": [
    {
     "ename": "SyntaxError",
     "evalue": "invalid syntax (1004708672.py, line 1)",
     "output_type": "error",
     "traceback": [
      "\u001b[0;36m  Input \u001b[0;32mIn [8]\u001b[0;36m\u001b[0m\n\u001b[0;31m    void getWindDirection() {\u001b[0m\n\u001b[0m         ^\u001b[0m\n\u001b[0;31mSyntaxError\u001b[0m\u001b[0;31m:\u001b[0m invalid syntax\n"
     ]
    }
   ],
   "source": [
    "void getWindDirection() {\n",
    "  //vaneValue = analogRead(WindVane_Pin); \n",
    " // vaneDirection = (vaneValue / 1024.0) * 360.0;\n",
    "  vaneValue = analogRead(WindVane_Pin);\n",
    "  vaneDirection = map(vaneValue, 0, 1023, 0, 359);\n",
    "  calDirection = vaneDirection + VaneOffset;\n",
    "  if (calDirection > 360)\n",
    "    calDirection = calDirection - 360;\n",
    "\n",
    "  if(calDirection < 0)\n",
    "    calDirection = calDirection + 360;\n",
    "}"
   ]
  }
 ],
 "metadata": {
  "interpreter": {
   "hash": "beb4f305451b4835b36a63cb1c75e625a7251cf8d76b65be2f5856eee68cb551"
  },
  "jupytext": {
   "cell_metadata_filter": "-all",
   "main_language": "python",
   "notebook_metadata_filter": "-all"
  },
  "kernelspec": {
   "display_name": "Python 2.7.10 64-bit",
   "language": "python",
   "name": "python3"
  },
  "language_info": {
   "codemirror_mode": {
    "name": "ipython",
    "version": 3
   },
   "file_extension": ".py",
   "mimetype": "text/x-python",
   "name": "python",
   "nbconvert_exporter": "python",
   "pygments_lexer": "ipython3",
   "version": "3.9.13"
  }
 },
 "nbformat": 4,
 "nbformat_minor": 5
}
